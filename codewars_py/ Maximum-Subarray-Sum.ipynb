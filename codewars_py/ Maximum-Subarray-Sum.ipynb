{
 "cells": [
  {
   "cell_type": "markdown",
   "metadata": {},
   "source": [
    "#  Maximum-Subarray-Sum\n",
    "\n",
    "## Description of the problem\n",
    "The maximum sum subarray problem consists in \n",
    "finding the maximum sum of a contiguous subsequence in an array or list of integers:\n",
    "Ex)\n",
    "```python\n",
    "max_sequence([-2, 1, -3, 4, -1, 2, 1, -5, 4])\n",
    "# should be 6: [4, -1, 2, 1]\n",
    "```\n",
    "Easy case is when the list is made up of only \n",
    "positive numbers and the maximum sum is the sum of the whole array. \n",
    "If the list is made up of only negative numbers, return 0 instead.\n",
    "\n",
    "Empty list is considered to have zero greatest sum. \n",
    "Note that the empty list or array is also a valid sublist/subarray.\n",
    "\n",
    "## Solution\n",
    "We could brute force the solution and try and find the maximum subarray at iterating through each index and checking every possible solution. This would result in a time complexity of O(n^2).\n",
    "\n",
    "### The implementation I will use will be Kadane's Algorithm.\n",
    "We look at each index and ask, what's the maximum subarray ending at this index?\n",
    "\n",
    "Ex)\n",
    "```python\n",
    "[1, -3, 2, 1, -1]\n",
    "```"
   ]
  },
  {
   "cell_type": "code",
   "execution_count": 1,
   "metadata": {},
   "outputs": [
    {
     "name": "stdout",
     "output_type": "stream",
     "text": [
      "None\n",
      "0\n",
      "0\n",
      "6\n"
     ]
    }
   ],
   "source": [
    "def max_sequence(arr):\n",
    "    # Check if all positve or negative\n",
    "    negative = True\n",
    "    positive = True\n",
    "\n",
    "    for x in arr:\n",
    "        if x > 0:\n",
    "            negative = False\n",
    "        if x < 0:\n",
    "            positive = False\n",
    "    if negative == True:\n",
    "        return 0\n",
    "    elif positive == True:\n",
    "        return sum(arr)\n",
    "\n",
    "    # Find max sum sub-array\n",
    "\n",
    "    return\n",
    "        \n",
    "\n",
    "print(max_sequence([-2, 1, -3, 4, -1, 2, 1, -5, 4]))\n",
    "print(max_sequence([-1, -2, -3]))\n",
    "print(max_sequence([]))\n",
    "print(max_sequence([1,2,3]))"
   ]
  },
  {
   "cell_type": "code",
   "execution_count": null,
   "metadata": {},
   "outputs": [],
   "source": []
  }
 ],
 "metadata": {
  "kernelspec": {
   "display_name": "Python 3",
   "language": "python",
   "name": "python3"
  },
  "language_info": {
   "codemirror_mode": {
    "name": "ipython",
    "version": 3
   },
   "file_extension": ".py",
   "mimetype": "text/x-python",
   "name": "python",
   "nbconvert_exporter": "python",
   "pygments_lexer": "ipython3",
   "version": "3.7.4"
  }
 },
 "nbformat": 4,
 "nbformat_minor": 2
}
